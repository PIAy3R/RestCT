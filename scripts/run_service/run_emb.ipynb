{
 "cells": [
  {
   "cell_type": "code",
   "execution_count": null,
   "id": "initial_id",
   "metadata": {
    "collapsed": true
   },
   "outputs": [],
   "source": [
    "# run LanguageTool\n",
    "\n",
    "import subprocess\n",
    "\n",
    "run = \"cd /Users/naariah/Environment/api-suts-jar && . ./java8.env && java -jar languagetool-run.jar 33000\"\n",
    "\n",
    "print(\"Starting\")\n",
    "subprocess.run(f\"screen -dmS languagetool_service bash -c '{run} > /Users/naariah/Documents/Python_Codes/RestCT/scripts/log/language.log 2>&1'\", shell=True)\n",
    "print(\"Start proxy server\")\n",
    "subprocess.run(\"screen -dmS languagetool_proxy mitmproxy --mode reverse:http://localhost:33000 -p 33001 -s /Users/naariah/Documents/Python_Codes/RestCT/scripts/proxy/language_proxy.py\", shell=True)"
   ]
  },
  {
   "cell_type": "code",
   "execution_count": null,
   "outputs": [],
   "source": [
    "# run market\n",
    "\n",
    "import subprocess\n",
    "\n",
    "run = \"cd /Users/naariah/Environment/api-suts-jar && . ./java11.env && java -jar market-run.jar 33000\"\n",
    "\n",
    "print(\"Starting\")\n",
    "subprocess.run(f\"screen -dmS market_service bash -c '{run} > /Users/naariah/Documents/Python_Codes/RestCT/scripts/log/market.log 2>&1'\", shell=True)\n",
    "print(\"Start proxy server\")\n",
    "subprocess.run(\"chmod +x /Users/naariah/Documents/Python_Codes/RestCT/scripts/proxy/market_proxy.py && screen -dmS market_proxy mitmproxy --mode reverse:http://localhost:33000 -p 33001 -s /Users/naariah/Documents/Python_Codes/RestCT/scripts/proxy/market_proxy.py\", shell=True)"
   ],
   "metadata": {
    "collapsed": false
   },
   "id": "f901c18938cef5f0"
  },
  {
   "cell_type": "code",
   "execution_count": null,
   "outputs": [],
   "source": [
    "# run person\n",
    "\n",
    "import subprocess\n",
    "\n",
    "run_docker = \"sudo docker run --name=person-mongo-27020 --restart=always -p 27020:27017 -d mongo:latest\"\n",
    "\n",
    "run = \"cd /Users/naariah/Environment/api-suts-jar && . ./java8.env && java -jar java-spring-boot-mongodb-starter-1.0.0.jar 42000\"\n",
    "\n",
    "print(\"Starting\")\n",
    "subprocess.run(f\"screen -dmS market_service bash -c '{run} > /Users/naariah/Documents/Python_Codes/RestCT/scripts/log/person.log 2>&1'\", shell=True)\n",
    "print(\"Start proxy server\")\n",
    "subprocess.run(\"chmod +x /Users/naariah/Documents/Python_Codes/RestCT/scripts/proxy/person_proxy.py && screen -dmS person_proxy mitmproxy --mode reverse:http://localhost:42000 -p 42001 -s /Users/naariah/Documents/Python_Codes/RestCT/scripts/proxy/person_proxy.py\", shell=True)"
   ],
   "metadata": {
    "collapsed": false
   },
   "id": "17173bf663439186"
  },
  {
   "cell_type": "code",
   "execution_count": null,
   "outputs": [],
   "source": [
    "# run feature\n",
    "\n",
    "import subprocess\n",
    "\n",
    "run = \"cd /Users/naariah/Environment/api-suts-jar && . ./java8.env && java -jar features-service-run.jar 33000\"\n",
    "\n",
    "print(\"Starting\")\n",
    "subprocess.run(f\"screen -dmS market_service bash -c '{run} > /Users/naariah/Documents/Python_Codes/RestCT/scripts/log/features.log 2>&1'\", shell=True)\n",
    "print(\"Start proxy server\")\n",
    "subprocess.run(\"chmod +x /Users/naariah/Documents/Python_Codes/RestCT/scripts/proxy/features_proxy.py && screen -dmS features_proxy mitmproxy --mode reverse:http://localhost:33000 -p 33001 -s /Users/naariah/Documents/Python_Codes/RestCT/scripts/proxy/features_proxy.py\", shell=True)"
   ],
   "metadata": {
    "collapsed": false
   },
   "id": "aaf922ba66e99151"
  },
  {
   "cell_type": "code",
   "execution_count": null,
   "outputs": [],
   "source": [
    "# run rest countries\n",
    "\n",
    "import subprocess\n",
    "\n",
    "run = \"cd /Users/naariah/Environment/api-suts-jar && . ./java8.env && java -jar /Users/naariah/Environment/api-suts-jar/restcountries-run.jar 33000\"\n",
    "\n",
    "print(\"Starting\")\n",
    "subprocess.run(f\"screen -dmS market_service bash -c '{run} > /Users/naariah/Documents/Python_Codes/RestCT/scripts/log/restcountries.log 2>&1'\", shell=True)\n",
    "print(\"Start proxy server\")\n",
    "subprocess.run(\"chmod +x /Users/naariah/Documents/Python_Codes/RestCT/scripts/proxy/restcountries_proxy.py && screen -dmS restcountries_proxy mitmproxy --mode reverse:http://localhost:33000 -p 33001 -s /Users/naariah/Documents/Python_Codes/RestCT/scripts/proxy/restcountries_proxy.py\", shell=True)"
   ],
   "metadata": {
    "collapsed": false
   },
   "id": "70497a442dbda386"
  },
  {
   "cell_type": "code",
   "execution_count": null,
   "outputs": [],
   "source": [
    "# run gene\n",
    "\n",
    "import subprocess\n",
    "\n",
    "run = \"cd /Users/naariah/Environment/api-suts-jar && . ./java8.env && java -jar /Users/naariah/Environment/api-suts-jar/genome-nexus-run.jar 33000\"\n",
    "\n",
    "print(\"Starting\")\n",
    "subprocess.run(f\"screen -dmS market_service bash -c '{run} > /Users/naariah/Documents/Python_Codes/RestCT/scripts/log/gene.log 2>&1'\", shell=True)\n",
    "print(\"Start proxy server\")\n",
    "subprocess.run(\"chmod +x /Users/naariah/Documents/Python_Codes/RestCT/scripts/proxy/genome-nexus_proxy.py && screen -dmS genome-nexus_proxy mitmproxy --mode reverse:http://localhost:33000 -p 33001 -s /Users/naariah/Documents/Python_Codes/RestCT/scripts/proxy/genome-nexus_proxy.py\", shell=True)"
   ],
   "metadata": {
    "collapsed": false
   },
   "id": "8ae2cb9feae355bc"
  },
  {
   "cell_type": "code",
   "execution_count": null,
   "outputs": [],
   "source": [
    "# run user\n",
    "\n",
    "import subprocess\n",
    "\n",
    "run_docker = \"docker run -d -p 43003:3306 --name user--mysql-43003 -e MYSQL_ROOT_PASSWORD=root -e MYSQL_DATABASE=users mysql\"\n",
    "\n",
    "run = \"cd /Users/naariah/Environment/api-suts-jar && . ./java8.env && java -jar /Users/naariah/Environment/api-suts-jar/microdemo2-1.0.0-SNAPSHOT.jar 43000 43003\"\n",
    "\n",
    "print(\"Starting\")\n",
    "subprocess.run(f\"screen -dmS market_service bash -c '{run} > /Users/naariah/Documents/Python_Codes/RestCT/scripts/log/user.log 2>&1'\", shell=True)\n",
    "print(\"Start proxy server\")\n",
    "subprocess.run(\"chmod +x /Users/naariah/Documents/Python_Codes/RestCT/scripts/proxy/user-management_proxy.py && screen -dmS user-management_proxy mitmproxy --mode reverse:http://localhost:43000 -p 43001 -s /Users/naariah/Documents/Python_Codes/RestCT/scripts/proxy/user_proxy.py\", shell=True)"
   ],
   "metadata": {
    "collapsed": false
   },
   "id": "d7e71bf1092747a1"
  },
  {
   "cell_type": "code",
   "execution_count": null,
   "outputs": [],
   "source": [
    "# run project\n",
    "\n",
    "import subprocess\n",
    "\n",
    "run = \"cd /Users/naariah/Environment/api-suts-jar && . ./java11.env && java -jar /Users/naariah/Environment/api-suts-jar/project-tracking-system.jar 33000\"\n",
    "\n",
    "print(\"Starting\")\n",
    "subprocess.run(f\"screen -dmS market_service bash -c '{run} > /Users/naariah/Documents/Python_Codes/RestCT/scripts/log/project.log 2>&1'\", shell=True)\n",
    "print(\"Start proxy server\")\n",
    "subprocess.run(\"chmod +x /Users/naariah/Documents/Python_Codes/RestCT/scripts/proxy/project_proxy.py && screen -dmS project_proxy mitmproxy --mode reverse:http://localhost:33000 -p 33001 -s /Users/naariah/Documents/Python_Codes/RestCT/scripts/proxy/project_proxy.py\", shell=True)"
   ],
   "metadata": {
    "collapsed": false
   },
   "id": "87c4475cb11bc320"
  },
  {
   "cell_type": "code",
   "execution_count": null,
   "outputs": [],
   "source": [
    "import subprocess\n",
    "print(\"Stopping\")\n",
    "subprocess.run(\"screen -ls | awk '/[0-9]+\\..*\\t/{print substr($1, 0, length($1)-1)}' | xargs -I{} screen -X -S {} quit\", shell=True)\n",
    "subprocess.run(\"kill -9 $(lsof -t -i:33000)\", shell=True)\n",
    "subprocess.run(\"kill -9 $(lsof -t -i:33001)\", shell=True)"
   ],
   "metadata": {
    "collapsed": false
   },
   "id": "35cf2d9018a84661"
  },
  {
   "cell_type": "code",
   "execution_count": null,
   "outputs": [],
   "source": [],
   "metadata": {
    "collapsed": false
   },
   "id": "c17af09ccc79df28"
  }
 ],
 "metadata": {
  "kernelspec": {
   "display_name": "Python 3",
   "language": "python",
   "name": "python3"
  },
  "language_info": {
   "codemirror_mode": {
    "name": "ipython",
    "version": 2
   },
   "file_extension": ".py",
   "mimetype": "text/x-python",
   "name": "python",
   "nbconvert_exporter": "python",
   "pygments_lexer": "ipython2",
   "version": "2.7.6"
  }
 },
 "nbformat": 4,
 "nbformat_minor": 5
}
