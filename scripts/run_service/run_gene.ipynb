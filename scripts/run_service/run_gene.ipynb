{
 "cells": [
  {
   "cell_type": "code",
   "execution_count": 6,
   "id": "initial_id",
   "metadata": {
    "collapsed": true,
    "ExecuteTime": {
     "end_time": "2024-02-18T06:11:45.895734Z",
     "start_time": "2024-02-18T06:11:45.871606Z"
    }
   },
   "outputs": [
    {
     "name": "stdout",
     "output_type": "stream",
     "text": [
      "Starting Genome server\n",
      "Start proxy server\n"
     ]
    },
    {
     "data": {
      "text/plain": "CompletedProcess(args='chmod +x /Users/naariah/Documents/Python_Codes/RestCT/scripts/proxy/gene_proxy.py && screen -dmS gene_proxy mitmproxy --mode reverse:http://localhost:40000 -p 40001 -s /Users/naariah/Documents/Python_Codes/RestCT/scripts/proxy/gene_proxy.py', returncode=0)"
     },
     "execution_count": 6,
     "metadata": {},
     "output_type": "execute_result"
    }
   ],
   "source": [
    "import subprocess\n",
    "\n",
    "run = \"cd /Users/naariah/Environment/api-suts-jar && . ./java8.env && java -jar genome-nexus-run.jar 40000\"\n",
    "\n",
    "print(\"Starting Genome server\")\n",
    "subprocess.run(f\"screen -dmS genome_servive bash -c '{run} > /Users/naariah/Documents/Python_Codes/RestCT/scripts/log/gene.log 2>&1'\", shell=True)\n",
    "print(\"Start proxy server\")\n",
    "subprocess.run(\"chmod +x /Users/naariah/Documents/Python_Codes/RestCT/scripts/proxy/gene_proxy.py && screen -dmS gene_proxy mitmproxy --mode reverse:http://localhost:40000 -p 40001 -s /Users/naariah/Documents/Python_Codes/RestCT/scripts/proxy/gene_proxy.py\", shell=True)"
   ]
  },
  {
   "cell_type": "code",
   "execution_count": 7,
   "outputs": [
    {
     "name": "stdout",
     "output_type": "stream",
     "text": [
      "Stopping Gene server\n"
     ]
    },
    {
     "name": "stderr",
     "output_type": "stream",
     "text": [
      "kill: usage: kill [-s sigspec | -n signum | -sigspec] pid | jobspec ... or kill -l [sigspec]\n"
     ]
    },
    {
     "data": {
      "text/plain": "CompletedProcess(args='kill -9 $(lsof -t -i:40001)', returncode=0)"
     },
     "execution_count": 7,
     "metadata": {},
     "output_type": "execute_result"
    }
   ],
   "source": [
    "print(\"Stopping Gene server\")\n",
    "subprocess.run(\"screen -ls | awk '/[0-9]+\\..*\\t/{print substr($1, 0, length($1)-1)}' | xargs -I{} screen -X -S {} quit\", shell=True)\n",
    "subprocess.run(\"kill -9 $(lsof -t -i:40000)\", shell=True)\n",
    "subprocess.run(\"kill -9 $(lsof -t -i:40001)\", shell=True)"
   ],
   "metadata": {
    "collapsed": false,
    "ExecuteTime": {
     "end_time": "2024-02-18T06:12:51.401155Z",
     "start_time": "2024-02-18T06:12:51.339932Z"
    }
   },
   "id": "cf792a232f2a91d"
  },
  {
   "cell_type": "code",
   "execution_count": null,
   "outputs": [],
   "source": [],
   "metadata": {
    "collapsed": false
   },
   "id": "1a88c3d0317d0e92"
  }
 ],
 "metadata": {
  "kernelspec": {
   "display_name": "Python 3",
   "language": "python",
   "name": "python3"
  },
  "language_info": {
   "codemirror_mode": {
    "name": "ipython",
    "version": 2
   },
   "file_extension": ".py",
   "mimetype": "text/x-python",
   "name": "python",
   "nbconvert_exporter": "python",
   "pygments_lexer": "ipython2",
   "version": "2.7.6"
  }
 },
 "nbformat": 4,
 "nbformat_minor": 5
}
