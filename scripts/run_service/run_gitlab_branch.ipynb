{
 "cells": [
  {
   "cell_type": "code",
   "execution_count": 2,
   "id": "initial_id",
   "metadata": {
    "collapsed": true,
    "ExecuteTime": {
     "end_time": "2024-02-26T07:31:35.467345Z",
     "start_time": "2024-02-26T07:31:35.407263Z"
    }
   },
   "outputs": [],
   "source": [
    "import time\n",
    "import json\n",
    "import requests\n",
    "import subprocess\n",
    "\n",
    "# print(\"Start Gitlab Server\")\n",
    "# subprocess.run(\"cd /Users/naariah/Environment/DockerCompose/Branch && docker compose up -d web\", shell=True)"
   ]
  },
  {
   "cell_type": "code",
   "execution_count": 3,
   "outputs": [
    {
     "name": "stdout",
     "output_type": "stream",
     "text": [
      "Accesss token: 44d0d8827eb15b4b011bb2ce5618773b0ea79466a9dbfbb3e5bcede514e38773\n"
     ]
    }
   ],
   "source": [
    "outh = {\n",
    "    \"grant_type\": \"password\",\n",
    "    \"username\": \"root\",\n",
    "    \"password\": \"root1234\"\n",
    "    }\n",
    "header = {\n",
    "    \"Content-Type\": \"application/json\",\n",
    "}\n",
    "    \n",
    "token = \"\"\n",
    "while(True):\n",
    "    try:\n",
    "        res = requests.post(f\"http://localhost:30080/oauth/token\", data=json.dumps(outh), headers=header)\n",
    "        token = res.json()[\"access_token\"]\n",
    "        break\n",
    "    except:\n",
    "        time.sleep(10)\n",
    "print(\"Accesss token: \" + token)"
   ],
   "metadata": {
    "collapsed": false,
    "ExecuteTime": {
     "end_time": "2024-02-26T07:31:38.193091Z",
     "start_time": "2024-02-26T07:31:37.770679Z"
    }
   },
   "id": "c762cf67177b5f6"
  },
  {
   "cell_type": "code",
   "execution_count": 4,
   "outputs": [
    {
     "name": "stdout",
     "output_type": "stream",
     "text": [
      "Start proxy\n"
     ]
    },
    {
     "data": {
      "text/plain": "CompletedProcess(args='chmod +x /Users/naariah/Documents/Python_Codes/RestCT/scripts/proxy/gitlab_proxy.py && screen -dmS gitlab_proxy mitmproxy --mode reverse:http://localhost:30080 -p 30081 -s /Users/naariah/Documents/Python_Codes/RestCT/scripts/proxy/gitlab_proxy.py', returncode=0)"
     },
     "execution_count": 4,
     "metadata": {},
     "output_type": "execute_result"
    }
   ],
   "source": [
    "print(\"Start proxy\")\n",
    "subprocess.run(\"chmod +x /Users/naariah/Documents/Python_Codes/RestCT/scripts/proxy/gitlab_proxy.py && screen -dmS gitlab_proxy mitmproxy --mode reverse:http://localhost:30080 -p 30081 -s /Users/naariah/Documents/Python_Codes/RestCT/scripts/proxy/gitlab_proxy.py\", shell=True)"
   ],
   "metadata": {
    "collapsed": false,
    "ExecuteTime": {
     "end_time": "2024-02-26T07:32:11.030979Z",
     "start_time": "2024-02-26T07:32:11.001521Z"
    }
   },
   "id": "f48627d8b8faf272"
  },
  {
   "cell_type": "code",
   "execution_count": 4,
   "outputs": [
    {
     "name": "stdout",
     "output_type": "stream",
     "text": [
      "Stopping Gitlab\n"
     ]
    },
    {
     "data": {
      "text/plain": "CompletedProcess(args='kill -9 $(lsof -t -i:30081)', returncode=0)"
     },
     "execution_count": 4,
     "metadata": {},
     "output_type": "execute_result"
    }
   ],
   "source": [
    "print(\"Stopping Gitlab\")\n",
    "subprocess.run(\"screen -ls | awk '/[0-9]+\\..*\\t/{print substr($1, 0, length($1)-1)}' | xargs -I{} screen -X -S {} quit\", shell=True)\n",
    "subprocess.run(\"kill -9 $(lsof -t -i:30081)\", shell=True)"
   ],
   "metadata": {
    "collapsed": false,
    "ExecuteTime": {
     "end_time": "2024-02-19T03:24:29.131246Z",
     "start_time": "2024-02-19T03:24:29.061234Z"
    }
   },
   "id": "93dbd540b36b95cb"
  },
  {
   "cell_type": "code",
   "execution_count": 5,
   "outputs": [
    {
     "name": "stdout",
     "output_type": "stream",
     "text": [
      "Stop Gitlab Server\n"
     ]
    },
    {
     "name": "stderr",
     "output_type": "stream",
     "text": [
      " Container branch-web-1  Stopping\n",
      " Container branch-web-1  Stopped\n",
      " Container branch-web-1  Removing\n",
      " Container branch-web-1  Removed\n",
      " Network branch_default  Removing\n",
      " Network branch_default  Removed\n"
     ]
    },
    {
     "data": {
      "text/plain": "CompletedProcess(args='cd /Users/naariah/Environment/DockerCompose/Branch && docker compose down', returncode=0)"
     },
     "execution_count": 5,
     "metadata": {},
     "output_type": "execute_result"
    }
   ],
   "source": [
    "print(\"Stop Gitlab Server\")\n",
    "subprocess.run(\"cd /Users/naariah/Environment/DockerCompose/Branch && docker compose down\", shell=True)"
   ],
   "metadata": {
    "collapsed": false,
    "ExecuteTime": {
     "end_time": "2024-02-19T03:24:53.595527Z",
     "start_time": "2024-02-19T03:24:42.751242Z"
    }
   },
   "id": "c82c67e9f15c7225"
  },
  {
   "cell_type": "code",
   "execution_count": null,
   "outputs": [],
   "source": [],
   "metadata": {
    "collapsed": false
   },
   "id": "b4b65f35bfe01bb0"
  }
 ],
 "metadata": {
  "kernelspec": {
   "display_name": "Python 3",
   "language": "python",
   "name": "python3"
  },
  "language_info": {
   "codemirror_mode": {
    "name": "ipython",
    "version": 2
   },
   "file_extension": ".py",
   "mimetype": "text/x-python",
   "name": "python",
   "nbconvert_exporter": "python",
   "pygments_lexer": "ipython2",
   "version": "2.7.6"
  }
 },
 "nbformat": 4,
 "nbformat_minor": 5
}
