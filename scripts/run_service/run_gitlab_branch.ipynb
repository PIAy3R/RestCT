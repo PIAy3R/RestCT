{
 "cells": [
  {
   "cell_type": "code",
   "execution_count": null,
   "id": "initial_id",
   "metadata": {
    "collapsed": true
   },
   "outputs": [],
   "source": [
    "import time\n",
    "import json\n",
    "import requests\n",
    "import subprocess\n",
    "\n",
    "# print(\"Start Gitlab Server\")\n",
    "# subprocess.run(\"cd /Users/naariah/Environment/DockerCompose/Branch && docker compose up -d web\", shell=True)"
   ]
  },
  {
   "cell_type": "code",
   "execution_count": null,
   "outputs": [],
   "source": [
    "outh = {\n",
    "    \"grant_type\": \"password\",\n",
    "    \"username\": \"root\",\n",
    "    \"password\": \"root1234\"\n",
    "    }\n",
    "header = {\n",
    "    \"Content-Type\": \"application/json\",\n",
    "}\n",
    "    \n",
    "token = \"\"\n",
    "while(True):\n",
    "    try:\n",
    "        res = requests.post(f\"http://localhost:30080/oauth/token\", data=json.dumps(outh), headers=header)\n",
    "        token = res.json()[\"access_token\"]\n",
    "        break\n",
    "    except:\n",
    "        time.sleep(10)\n",
    "print(\"Accesss token: \" + token)"
   ],
   "metadata": {
    "collapsed": false
   },
   "id": "c762cf67177b5f6"
  },
  {
   "cell_type": "code",
   "execution_count": 7,
   "outputs": [
    {
     "name": "stdout",
     "output_type": "stream",
     "text": [
      "Start proxy\n"
     ]
    },
    {
     "data": {
      "text/plain": "CompletedProcess(args='chmod +x /Users/naariah/Documents/Python_Codes/RestCT/scripts/proxy/gitlab_proxy.py && screen -dmS gitlab_proxy mitmproxy --mode reverse:http://localhost:30080 -p 30081 -s /Users/naariah/Documents/Python_Codes/RestCT/scripts/proxy/gitlab_proxy.py', returncode=0)"
     },
     "execution_count": 7,
     "metadata": {},
     "output_type": "execute_result"
    }
   ],
   "source": [
    "print(\"Start proxy\")\n",
    "subprocess.run(\"chmod +x /Users/naariah/Documents/Python_Codes/RestCT/scripts/proxy/gitlab_proxy.py && screen -dmS gitlab_proxy mitmproxy --mode reverse:http://localhost:30080 -p 30081 -s /Users/naariah/Documents/Python_Codes/RestCT/scripts/proxy/gitlab_proxy.py\", shell=True)"
   ],
   "metadata": {
    "collapsed": false,
    "ExecuteTime": {
     "end_time": "2024-05-22T05:58:29.918019Z",
     "start_time": "2024-05-22T05:58:29.892062Z"
    }
   },
   "id": "f48627d8b8faf272"
  },
  {
   "cell_type": "code",
   "execution_count": null,
   "outputs": [],
   "source": [
    "print(\"Stopping Gitlab\")\n",
    "subprocess.run(\"screen -ls | awk '/[0-9]+\\..*\\t/{print substr($1, 0, length($1)-1)}' | xargs -I{} screen -X -S {} quit\", shell=True)\n",
    "subprocess.run(\"kill -9 $(lsof -t -i:30081)\", shell=True)"
   ],
   "metadata": {
    "collapsed": false
   },
   "id": "93dbd540b36b95cb"
  },
  {
   "cell_type": "code",
   "execution_count": null,
   "outputs": [],
   "source": [
    "print(\"Stop Gitlab Server\")\n",
    "subprocess.run(\"cd /Users/naariah/Environment/DockerCompose/Branch && docker compose down\", shell=True)"
   ],
   "metadata": {
    "collapsed": false
   },
   "id": "c82c67e9f15c7225"
  },
  {
   "cell_type": "code",
   "execution_count": null,
   "outputs": [],
   "source": [],
   "metadata": {
    "collapsed": false
   },
   "id": "b4b65f35bfe01bb0"
  }
 ],
 "metadata": {
  "kernelspec": {
   "display_name": "Python 3",
   "language": "python",
   "name": "python3"
  },
  "language_info": {
   "codemirror_mode": {
    "name": "ipython",
    "version": 2
   },
   "file_extension": ".py",
   "mimetype": "text/x-python",
   "name": "python",
   "nbconvert_exporter": "python",
   "pygments_lexer": "ipython2",
   "version": "2.7.6"
  }
 },
 "nbformat": 4,
 "nbformat_minor": 5
}
