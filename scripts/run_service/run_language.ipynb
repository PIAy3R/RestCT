{
 "cells": [
  {
   "cell_type": "code",
   "execution_count": 10,
   "id": "initial_id",
   "metadata": {
    "collapsed": true,
    "ExecuteTime": {
     "end_time": "2024-02-22T08:17:33.253593Z",
     "start_time": "2024-02-22T08:17:33.225561Z"
    }
   },
   "outputs": [
    {
     "name": "stdout",
     "output_type": "stream",
     "text": [
      "Starting LanguageTool server\n",
      "Start proxy server\n"
     ]
    },
    {
     "data": {
      "text/plain": "CompletedProcess(args='chmod +x /Users/naariah/Documents/Python_Codes/RestCT/scripts/proxy/language_proxy.py && screen -dmS languagetool_proxy mitmproxy --mode reverse:http://localhost:33000 -p 33001 -s /Users/naariah/Documents/Python_Codes/RestCT/scripts/proxy/language_proxy.py', returncode=0)"
     },
     "execution_count": 10,
     "metadata": {},
     "output_type": "execute_result"
    }
   ],
   "source": [
    "import subprocess\n",
    "\n",
    "run = \"cd /Users/naariah/Environment/api-suts-jar && . ./java8.env && java -jar languagetool-run.jar\"\n",
    "\n",
    "print(\"Starting LanguageTool server\")\n",
    "subprocess.run(f\"screen -dmS languagetool_service bash -c '{run} > /Users/naariah/Documents/Python_Codes/RestCT/scripts/log/language.log 2>&1'\", shell=True)\n",
    "print(\"Start proxy server\")\n",
    "subprocess.run(\"chmod +x /Users/naariah/Documents/Python_Codes/RestCT/scripts/proxy/language_proxy.py && screen -dmS languagetool_proxy mitmproxy --mode reverse:http://localhost:33000 -p 33001 -s /Users/naariah/Documents/Python_Codes/RestCT/scripts/proxy/language_proxy.py\", shell=True)\n"
   ]
  },
  {
   "cell_type": "code",
   "execution_count": 9,
   "outputs": [
    {
     "name": "stdout",
     "output_type": "stream",
     "text": [
      "Stopping LanguageTool server\n"
     ]
    },
    {
     "name": "stderr",
     "output_type": "stream",
     "text": [
      "kill: usage: kill [-s sigspec | -n signum | -sigspec] pid | jobspec ... or kill -l [sigspec]\n",
      "kill: usage: kill [-s sigspec | -n signum | -sigspec] pid | jobspec ... or kill -l [sigspec]\n"
     ]
    },
    {
     "data": {
      "text/plain": "CompletedProcess(args='kill -9 $(lsof -t -i:33001)', returncode=1)"
     },
     "execution_count": 9,
     "metadata": {},
     "output_type": "execute_result"
    }
   ],
   "source": [
    "import subprocess\n",
    "print(\"Stopping LanguageTool server\")\n",
    "subprocess.run(\"screen -ls | awk '/[0-9]+\\..*\\t/{print substr($1, 0, length($1)-1)}' | xargs -I{} screen -X -S {} quit\", shell=True)\n",
    "subprocess.run(\"kill -9 $(lsof -t -i:33000)\", shell=True)\n",
    "subprocess.run(\"kill -9 $(lsof -t -i:33001)\", shell=True)"
   ],
   "metadata": {
    "collapsed": false,
    "ExecuteTime": {
     "end_time": "2024-02-22T07:18:31.213592Z",
     "start_time": "2024-02-22T07:18:31.156100Z"
    }
   },
   "id": "35cf2d9018a84661"
  },
  {
   "cell_type": "code",
   "execution_count": null,
   "outputs": [],
   "source": [],
   "metadata": {
    "collapsed": false
   },
   "id": "c17af09ccc79df28"
  }
 ],
 "metadata": {
  "kernelspec": {
   "display_name": "Python 3",
   "language": "python",
   "name": "python3"
  },
  "language_info": {
   "codemirror_mode": {
    "name": "ipython",
    "version": 2
   },
   "file_extension": ".py",
   "mimetype": "text/x-python",
   "name": "python",
   "nbconvert_exporter": "python",
   "pygments_lexer": "ipython2",
   "version": "2.7.6"
  }
 },
 "nbformat": 4,
 "nbformat_minor": 5
}
