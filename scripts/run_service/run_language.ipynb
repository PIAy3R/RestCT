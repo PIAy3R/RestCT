{
 "cells": [
  {
   "cell_type": "code",
   "execution_count": null,
   "id": "initial_id",
   "metadata": {
    "collapsed": true
   },
   "outputs": [],
   "source": [
    "import subprocess\n",
    "\n",
    "run = \"cd /Users/naariah/Environment/api-suts-jar && . ./java8.env && java -jar languagetool-run.jar 33000\"\n",
    "\n",
    "print(\"Starting LanguageTool server\")\n",
    "subprocess.run(f\"screen -dmS languagetool_service bash -c '{run} > /Users/naariah/Documents/Python_Codes/RestCT/scripts/log/language.log 2>&1'\", shell=True)\n",
    "print(\"Start proxy server\")\n",
    "subprocess.run(\"chmod +x /Users/naariah/Documents/Python_Codes/RestCT/scripts/proxy/language_proxy.py && screen -dmS languagetool_proxy mitmproxy --mode reverse:http://localhost:33000 -p 33001 -s /Users/naariah/Documents/Python_Codes/RestCT/scripts/proxy/language_proxy.py\", shell=True)\n"
   ]
  },
  {
   "cell_type": "code",
   "execution_count": null,
   "outputs": [],
   "source": [
    "import subprocess\n",
    "print(\"Stopping LanguageTool server\")\n",
    "subprocess.run(\"screen -ls | awk '/[0-9]+\\..*\\t/{print substr($1, 0, length($1)-1)}' | xargs -I{} screen -X -S {} quit\", shell=True)\n",
    "subprocess.run(\"kill -9 $(lsof -t -i:33000)\", shell=True)\n",
    "subprocess.run(\"kill -9 $(lsof -t -i:33001)\", shell=True)"
   ],
   "metadata": {
    "collapsed": false
   },
   "id": "35cf2d9018a84661"
  },
  {
   "cell_type": "code",
   "execution_count": null,
   "outputs": [],
   "source": [],
   "metadata": {
    "collapsed": false
   },
   "id": "c17af09ccc79df28"
  }
 ],
 "metadata": {
  "kernelspec": {
   "display_name": "Python 3",
   "language": "python",
   "name": "python3"
  },
  "language_info": {
   "codemirror_mode": {
    "name": "ipython",
    "version": 2
   },
   "file_extension": ".py",
   "mimetype": "text/x-python",
   "name": "python",
   "nbconvert_exporter": "python",
   "pygments_lexer": "ipython2",
   "version": "2.7.6"
  }
 },
 "nbformat": 4,
 "nbformat_minor": 5
}
