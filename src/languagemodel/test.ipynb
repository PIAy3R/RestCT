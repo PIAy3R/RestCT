{
 "cells": [
  {
   "cell_type": "code",
   "execution_count": 1,
   "outputs": [
    {
     "name": "stderr",
     "output_type": "stream",
     "text": [
      "2024-11-06 19:33:30.723 | DEBUG    | src.swagger:__init__:28 - Parsing specification file\n"
     ]
    }
   ],
   "source": [
    "import time\n",
    "\n",
    "from src.swagger import SwaggerParser\n",
    "from src.config import Config\n",
    "import json\n",
    "import os\n",
    "\n",
    "os.environ[\"model\"] = \"gpt-4o-2024-05-13\"\n",
    "os.environ[\"language_model_key\"] = \"\"\n",
    "\n",
    "# root_path = \"/Users/naariah/Documents/Python_Codes/api-suts/specifications/v3/languageTool.json\"\n",
    "root_path = \"/Users/naariah/Documents/Python_Codes/api-suts/specifications/v3/gitlab-groups-13.json\"\n",
    "config = Config()\n",
    "config.swagger = root_path\n",
    "parser = SwaggerParser(config)\n",
    "operations = parser.extract()"
   ],
   "metadata": {
    "collapsed": false,
    "ExecuteTime": {
     "end_time": "2024-11-06T11:33:31.107674Z",
     "start_time": "2024-11-06T11:33:30.251696Z"
    }
   },
   "id": "13649ca90e106f55"
  },
  {
   "cell_type": "code",
   "execution_count": 2,
   "outputs": [
    {
     "data": {
      "text/plain": "[get:/groups,\n post:/groups,\n get:/groups/{id},\n put:/groups/{id},\n delete:/groups/{id},\n post:/groups/{id}/share,\n delete:/groups/{id}/share/{group_id},\n get:/groups/{id}/subgroups,\n get:/groups/{id}/hooks,\n post:/groups/{id}/hooks,\n get:/groups/{id}/hooks/{hook_id},\n put:/groups/{id}/hooks/{hook_id},\n delete:/groups/{id}/hooks/{hook_id},\n get:/groups/{id}/descendant_groups,\n get:/groups/{id}/projects,\n post:/groups/{id}/projects/{project_id},\n get:/groups/{id}/projects/shared]"
     },
     "execution_count": 2,
     "metadata": {},
     "output_type": "execute_result"
    }
   ],
   "source": [
    "operations"
   ],
   "metadata": {
    "collapsed": false,
    "ExecuteTime": {
     "end_time": "2024-11-06T11:33:33.880876Z",
     "start_time": "2024-11-06T11:33:33.877388Z"
    }
   },
   "id": "8b940a6fe0c51598"
  },
  {
   "cell_type": "code",
   "execution_count": null,
   "outputs": [],
   "source": [
    "from collections import defaultdict\n",
    "\n",
    "\n",
    "def create_resource_node(operations):\n",
    "    def merge_resource(resource, resource_tree):\n",
    "        for parent, children in resource_tree.items():\n",
    "            for child in children.copy():\n",
    "                if child + \"s\" in children:\n",
    "                    children.remove(child)\n",
    "                    if child + \"s\" in resource:\n",
    "                        resource[child + \"s\"].extend(resource[child])\n",
    "                        del resource[child]\n",
    "\n",
    "    resource = {}\n",
    "    resource_tree = defaultdict(set)\n",
    "\n",
    "    for operation in sorted(operations, key=lambda x: len(x.path.__repr__().split(\"/\"))):\n",
    "        path = operation.path.__repr__()\n",
    "        split_path = path.split(\"/\")\n",
    "        if \"{\" in split_path[-1]:\n",
    "            resource_name = split_path[-2]\n",
    "        else:\n",
    "            resource_name = split_path[-1]\n",
    "        if resource_name not in resource:\n",
    "            resource[resource_name] = []\n",
    "        resource[resource_name].append(operation.__repr__())\n",
    "\n",
    "        for previous_resource in resource.keys():\n",
    "            if previous_resource in split_path and previous_resource != resource_name:\n",
    "                resource_tree[previous_resource].add(resource_name)\n",
    "\n",
    "    merge_resource(resource, resource_tree)\n",
    "\n",
    "    return resource, resource_tree\n",
    "\n",
    "\n",
    "resource, resource_tree = create_resource_node(operations)\n",
    "resource, resource_tree"
   ],
   "metadata": {
    "collapsed": false
   },
   "id": "c5e89b75de53b3fe"
  },
  {
   "cell_type": "code",
   "execution_count": null,
   "outputs": [],
   "source": [
    "from src.rest import PathParam\n",
    "\n",
    "info = []\n",
    "for operation in operations:\n",
    "    info.append(\n",
    "        {\n",
    "            \"name\": operation.__repr__(),\n",
    "            \"description\": operation.description,\n",
    "        }\n",
    "    )"
   ],
   "metadata": {
    "collapsed": false
   },
   "id": "e70ac6eaf8e35fe8"
  },
  {
   "cell_type": "code",
   "execution_count": null,
   "outputs": [],
   "source": [
    "info"
   ],
   "metadata": {
    "collapsed": false
   },
   "id": "2200ae8464cdddde"
  },
  {
   "cell_type": "code",
   "execution_count": null,
   "outputs": [],
   "source": [
    "operation = operations[3]\n",
    "info = []\n",
    "for f in operation.get_leaf_factors():\n",
    "    info.append(\n",
    "        {\n",
    "            \"name\": f.get_global_name,\n",
    "            \"type\": f.type.value,\n",
    "            \"description\": f.description,\n",
    "        }\n",
    "    )"
   ],
   "metadata": {
    "collapsed": false
   },
   "id": "20da90785b7349b9"
  },
  {
   "cell_type": "code",
   "execution_count": null,
   "outputs": [],
   "source": [
    "from openai import OpenAI\n",
    "from src.template import *\n",
    "from src.languagemodel.llm import count_tokens\n",
    "\n",
    "client = OpenAI(api_key=os.environ[\"language_model_key\"], base_url=\"https://api.bianxieai.com/v1\")\n",
    "messages = []\n",
    "messages.append({\"role\": \"system\", \"content\": SystemRole.SYS_ROLE_SEQUENCE})\n",
    "prompt = INFO.SEQUENCE.format(info) + Task.SEQUENCE\n",
    "messages.append({\"role\": \"user\", \"content\": prompt})"
   ],
   "metadata": {
    "collapsed": false
   },
   "id": "34fdf43a84b4a546"
  },
  {
   "cell_type": "code",
   "execution_count": null,
   "outputs": [],
   "source": [
    "messages"
   ],
   "metadata": {
    "collapsed": false
   },
   "id": "e907be6600509fab"
  },
  {
   "cell_type": "code",
   "execution_count": null,
   "outputs": [],
   "source": [
    "count_tokens(messages, os.environ[\"model\"])"
   ],
   "metadata": {
    "collapsed": false
   },
   "id": "820588670a315d56"
  },
  {
   "cell_type": "code",
   "execution_count": null,
   "outputs": [],
   "source": [
    "from loguru import logger\n",
    "\n",
    "while True:\n",
    "    try:\n",
    "        start = time.time()\n",
    "        response = client.chat.completions.create(\n",
    "            model=os.environ[\"model\"],\n",
    "            messages=messages,\n",
    "            temperature=0.5,\n",
    "            top_p=0.99,\n",
    "            frequency_penalty=0,\n",
    "            presence_penalty=0,\n",
    "            max_tokens=4096,\n",
    "            response_format={\"type\": \"json_object\"}\n",
    "        )\n",
    "        end = time.time()\n",
    "        print(\"Time taken: \", end - start)\n",
    "        break\n",
    "    except Exception as e:\n",
    "        logger.error(f\"Error in calling language model: {e}\")\n",
    "        logger.error(\"Retrying...\")"
   ],
   "metadata": {
    "collapsed": false
   },
   "id": "822eeaa5e9227933"
  },
  {
   "cell_type": "code",
   "execution_count": null,
   "outputs": [],
   "source": [
    "json.loads(response.choices[0].message.content)"
   ],
   "metadata": {
    "collapsed": false
   },
   "id": "d1009396398c6fc3"
  },
  {
   "cell_type": "code",
   "execution_count": null,
   "outputs": [],
   "source": [
    "import rstr\n",
    "\n",
    "\n",
    "def generate_random_string_from_pattern(pattern, min_length=0, max_length=None):\n",
    "    try:\n",
    "        generated_str = rstr.xeger(pattern)\n",
    "        if max_length:\n",
    "            generated_str = generated_str[min_length:max_length - 1]\n",
    "        return generated_str\n",
    "    except Exception:\n",
    "        pass\n",
    "    return None\n",
    "\n",
    "\n",
    "pattern = r'[A-Za-z0-9!@#$%^&*()_+]{10,15}'\n",
    "random_string = generate_random_string_from_pattern(pattern)\n",
    "print(random_string)"
   ],
   "metadata": {
    "collapsed": false
   },
   "id": "9d3369e8daeb6fbc"
  },
  {
   "cell_type": "code",
   "execution_count": 11,
   "outputs": [],
   "source": [
    "import os\n",
    "import time\n",
    "import json\n",
    "from openai import OpenAI\n",
    "\n",
    "os.environ[\"model\"] = \"gpt-4o-2024-05-13\"\n",
    "os.environ[\"language_model_key\"] = \"sk-QKBW0aRWkwGm7anAD0Bb7d469e6e4d40B6E3B7B4D4589a61\"\n",
    "\n",
    "\n",
    "def call(client, model, messages):\n",
    "    return client.chat.completions.create(\n",
    "        model=model,\n",
    "        messages=messages,\n",
    "        temperature=0.5,\n",
    "        top_p=0.99,\n",
    "        frequency_penalty=0,\n",
    "        presence_penalty=0,\n",
    "        max_tokens=4096,\n",
    "        response_format={\"type\": \"json_object\"}\n",
    "    )"
   ],
   "metadata": {
    "collapsed": false,
    "ExecuteTime": {
     "end_time": "2024-09-13T05:06:26.052176Z",
     "start_time": "2024-09-13T05:06:26.043927Z"
    }
   },
   "id": "95fd69ae1df8ffd4"
  },
  {
   "cell_type": "code",
   "execution_count": 12,
   "outputs": [],
   "source": [
    "prompt1 = \"\"\"\n",
    "Given the operation and its parameters, identify all prerequisite 2 schemas for retrieving information related to the operation’s parameters. \n",
    "Below is the operation and its parameters: \n",
    "post-/booking: \n",
    "    flightId: integer \n",
    "    departureDate: string \n",
    "    arrivalDate: string\n",
    "    \n",
    "Below is the list of all schemas and their properties: \n",
    "schemas: \n",
    "    Flight: \n",
    "        type: object \n",
    "        properties: \n",
    "            id: \n",
    "                type: integer \n",
    "            origin: \n",
    "                type: string \n",
    "            destination: \n",
    "                type: string \n",
    "    Booking: \n",
    "        type: object \n",
    "        properties: \n",
    "        flight: \n",
    "            $ref: ’#/components/schemas/Flight’ \n",
    "        departureDate:\n",
    "            type: string \n",
    "            format: date \n",
    "        arrivalDate: \n",
    "            type: string \n",
    "            format: date\n",
    "        passengerName:\n",
    "            type: string\n",
    "        passengerAge:\n",
    "            type: integer\n",
    "            \n",
    "Please format the prerequisite schemas as json object, the formate is {operation: {schema: {parameter of the operation: the parameter of the schema that is required}}}.\n",
    "\"\"\"\n",
    "\n",
    "bak1 = \"\"\"\n",
    "Please format the prerequisite schemas as json object, the formate is {operation: {schema: {parameter of the operation: the parameter of the schema that is required}}}.\n",
    "Note that not all the parameters of the operation has the dependency on the schema.\n",
    "\"\"\"\n",
    "bak2 = \"\"\"\n",
    "Format your answer in JSON object.\n",
    "Please format the prerequisite schemas in the following structure: <parameter of the operation> -> <equivalent operation of the relevant schema>\n",
    "\"\"\"\n",
    "\n",
    "prompt2 = \"\"\"\n",
    "Given the schema and its properties in the OpenAPI specification of an API application, your task is to identify the prerequisite schemas that need to be created before establishing the mentioned schema.\n",
    "Below is the schema and its properties\n",
    "Booking: \n",
    "        type: object \n",
    "        properties: \n",
    "        flight: \n",
    "            $ref: ’#/components/schemas/Flight’ \n",
    "        departureDate:\n",
    "            type: string \n",
    "            format: date \n",
    "        arrivalDate: \n",
    "            type: string \n",
    "            format: date\n",
    "        passengerName:\n",
    "            type: string\n",
    "        passengerAge:\n",
    "            type: integer\n",
    "            \n",
    "Below is the list of all schemas and their properties:\n",
    "schemas: \n",
    "    Flight: \n",
    "        type: object \n",
    "        properties: \n",
    "            id: \n",
    "                type: integer \n",
    "            origin: \n",
    "                type: string \n",
    "            destination: \n",
    "                type: string \n",
    "    Booking: \n",
    "        type: object \n",
    "        properties: \n",
    "        flight: \n",
    "            $ref: ’#/components/schemas/Flight’ \n",
    "        departureDate:\n",
    "            type: string \n",
    "            format: date \n",
    "        arrivalDate: \n",
    "            type: string \n",
    "            format: date\n",
    "        passengerName:\n",
    "            type: string\n",
    "        passengerAge:\n",
    "            type: integer\n",
    "Return in separated lines. No explanation needed.\n",
    "Format your answer in JSON object.\n",
    "\"\"\""
   ],
   "metadata": {
    "collapsed": false,
    "ExecuteTime": {
     "end_time": "2024-09-13T05:06:26.517186Z",
     "start_time": "2024-09-13T05:06:26.515077Z"
    }
   },
   "id": "c9ba15ff70c9127b"
  },
  {
   "cell_type": "code",
   "execution_count": 13,
   "outputs": [
    {
     "name": "stdout",
     "output_type": "stream",
     "text": [
      "***************************************************Round 1***************************************************\n",
      "OS GPT3.5\n",
      "{'post-/booking': {'Flight': {'flightId': 'id'}, 'Booking': {'departureDate': 'departureDate', 'arrivalDate': 'arrivalDate', 'flight': 'flight'}}}\n",
      "OS GPT4\n",
      "{'post-/booking': {'Flight': {'flightId': 'id'}, 'Booking': {'departureDate': 'departureDate', 'arrivalDate': 'arrivalDate'}}}\n",
      "SS GPT3.5\n",
      "{'prerequisite_schemas': {'Flight': {'type': 'object', 'properties': {'id': {'type': 'integer'}, 'origin': {'type': 'string'}, 'destination': {'type': 'string'}}}}}\n",
      "SS GPT4\n",
      "{'prerequisiteSchemas': ['Flight']}\n",
      "***************************************************Round 2***************************************************\n",
      "OS GPT3.5\n",
      "{'post-/booking': {'Booking': {'flight': 'id', 'departureDate': 'departureDate', 'arrivalDate': 'arrivalDate'}}}\n",
      "OS GPT4\n",
      "{'post-/booking': {'Flight': {'flightId': 'id'}, 'Booking': {'departureDate': 'departureDate', 'arrivalDate': 'arrivalDate'}}}\n",
      "SS GPT3.5\n",
      "{'prerequisiteSchemas': ['Flight']}\n",
      "SS GPT4\n",
      "{'prerequisiteSchemas': ['Flight']}\n",
      "***************************************************Round 3***************************************************\n",
      "OS GPT3.5\n",
      "{'post-/booking': {'Flight': {'flightId': 'id'}, 'Booking': {'departureDate': 'departureDate', 'arrivalDate': 'arrivalDate', 'flight': 'id'}}}\n",
      "OS GPT4\n",
      "{'post-/booking': {'Flight': {'flightId': 'id'}, 'Booking': {'departureDate': 'departureDate', 'arrivalDate': 'arrivalDate'}}}\n",
      "SS GPT3.5\n",
      "{'prerequisiteSchemas': {'Flight': {'type': 'object', 'properties': {'id': {'type': 'integer'}, 'origin': {'type': 'string'}, 'destination': {'type': 'string'}}}}}\n",
      "SS GPT4\n",
      "{'schemas': ['Flight']}\n",
      "***************************************************Round 4***************************************************\n",
      "OS GPT3.5\n",
      "{'post-/booking': {'Flight': {'flightId': 'id'}, 'Booking': {'departureDate': 'departureDate', 'arrivalDate': 'arrivalDate'}}}\n",
      "OS GPT4\n",
      "{'post-/booking': {'Flight': {'flightId': 'id'}, 'Booking': {'departureDate': 'departureDate', 'arrivalDate': 'arrivalDate'}}}\n",
      "SS GPT3.5\n",
      "{'prerequisiteSchemas': ['Flight']}\n",
      "SS GPT4\n",
      "{'prerequisiteSchemas': ['Flight']}\n",
      "***************************************************Round 5***************************************************\n",
      "OS GPT3.5\n",
      "{'post-/booking': {'Booking': {'flightId': 'flight.id', 'departureDate': 'departureDate', 'arrivalDate': 'arrivalDate'}, 'Flight': {'flightId': 'id'}}}\n",
      "OS GPT4\n",
      "{'post-/booking': {'Flight': {'flightId': 'id'}, 'Booking': {'departureDate': 'departureDate', 'arrivalDate': 'arrivalDate'}}}\n",
      "SS GPT3.5\n",
      "{'prerequisiteSchemas': ['Flight']}\n",
      "SS GPT4\n",
      "{'schemas': [{'Flight': {'type': 'object', 'properties': {'id': {'type': 'integer'}, 'origin': {'type': 'string'}, 'destination': {'type': 'string'}}}}, {'Booking': {'type': 'object', 'properties': {'flight': {'$ref': '#/components/schemas/Flight'}, 'departureDate': {'type': 'string', 'format': 'date'}, 'arrivalDate': {'type': 'string', 'format': 'date'}, 'passengerName': {'type': 'string'}, 'passengerAge': {'type': 'integer'}}}}]}\n"
     ]
    }
   ],
   "source": [
    "client = OpenAI(api_key=os.environ[\"language_model_key\"], base_url=\"https://api.bianxie.ai/v1\")\n",
    "model1= \"gpt-4o-2024-05-13\"\n",
    "model2 = \"gpt-3.5-turbo\"\n",
    "for i in range(1,6):\n",
    "    print(f\"***************************************************Round {i}***************************************************\")\n",
    "    print(\"OS GPT3.5\")\n",
    "    messages = [{\"role\": \"user\", \"content\": prompt1}]\n",
    "    response = call(client, model2,messages)\n",
    "    print(json.loads(response.choices[0].message.content))\n",
    "    print(\"OS GPT4\")\n",
    "    messages = [{\"role\": \"user\", \"content\": prompt1}]\n",
    "    response = call(client, model1,messages)\n",
    "    print(json.loads(response.choices[0].message.content))\n",
    "    print(\"SS GPT3.5\")\n",
    "    messages = [{\"role\": \"user\", \"content\": prompt2}]\n",
    "    response = call(client, model2,messages)\n",
    "    print(json.loads(response.choices[0].message.content))\n",
    "    print(\"SS GPT4\")\n",
    "    messages = [{\"role\": \"user\", \"content\": prompt2}]\n",
    "    response = call(client, model1,messages)\n",
    "    print(json.loads(response.choices[0].message.content))"
   ],
   "metadata": {
    "collapsed": false,
    "ExecuteTime": {
     "end_time": "2024-09-13T05:06:53.326754Z",
     "start_time": "2024-09-13T05:06:27.108497Z"
    }
   },
   "id": "17326fa0ad22ac75"
  },
  {
   "cell_type": "code",
   "execution_count": null,
   "outputs": [],
   "source": [],
   "metadata": {
    "collapsed": false
   },
   "id": "84e01fb9985e4ca8"
  }
 ],
 "metadata": {
  "kernelspec": {
   "display_name": "Python 3",
   "language": "python",
   "name": "python3"
  },
  "language_info": {
   "codemirror_mode": {
    "name": "ipython",
    "version": 2
   },
   "file_extension": ".py",
   "mimetype": "text/x-python",
   "name": "python",
   "nbconvert_exporter": "python",
   "pygments_lexer": "ipython2",
   "version": "2.7.6"
  }
 },
 "nbformat": 4,
 "nbformat_minor": 5
}
