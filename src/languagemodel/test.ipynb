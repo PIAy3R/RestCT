{
 "cells": [
  {
   "cell_type": "code",
   "execution_count": null,
   "id": "initial_id",
   "metadata": {
    "collapsed": true
   },
   "outputs": [],
   "source": [
    "import json\n",
    "import os\n",
    "from pathlib import Path\n",
    "\n",
    "from loguru import logger\n",
    "\n",
    "from src.Dto.keywords import URL\n",
    "from src.Dto.parameter import EnumParam\n",
    "from src.ca import RuntimeInfoManager\n",
    "from src.languagemodel.LanguageModel import ParamValueModel, ResponseModel\n",
    "from src.openapiParser import Parser\n",
    "\n",
    "swagger = \"/Users/naariah/Documents/Python_Codes/RestCT/exp/swagger/GitLab/Branch.json\"\n",
    "os.environ[\"swagger\"] = swagger\n",
    "os.environ[\"model\"] = \"gpt-3.5-turbo-1106\"\n",
    "os.environ[\"language_model_key\"] = \"\"\n",
    "# os.environ[\"http_proxy\"] = \"http://localhost:7890\"\n",
    "# os.environ[\"https_proxy\"] = \"http://localhost:7890\"\n",
    "\n",
    "with Path(swagger).open(\"r\") as fp:\n",
    "    spec = json.load(fp)\n",
    "\n",
    "p = Parser(logger)\n",
    "p.parse()\n",
    "op = p.operations[1]\n",
    "ep = [p for p in op.parameterList if not isinstance(p, EnumParam)]\n",
    "bp = ep[0]\n",
    "pl = bp.seeAllParameters()\n",
    "p0 = pl[0].getGlobalName()\n",
    "definition = spec.get(\"definitions\").copy()\n",
    "p_l = spec[\"paths\"][op.url.replace(URL.baseurl, \"\")][op.method.value][\"parameters\"]\n",
    "plstr = json.dumps(p_l)\n",
    "\n",
    "\n",
    "# ref = str()\n",
    "# for p_i in p_l:\n",
    "#     if p_i[\"name\"] == bp.name:\n",
    "#         ref = p_i[\"schema\"].get(\"$ref\").split(\"/\")[-1]\n",
    "# def_dict = definition[ref]\n",
    "\n",
    "\n",
    "def get_info(param, definition, def_dict, body):\n",
    "    for p_n in param.split(\"@\"):\n",
    "        if p_n == body.name:\n",
    "            continue\n",
    "        elif p_n == \"_item\":\n",
    "            ref = def_dict.get(\"items\").get(\"$ref\").split(\"/\")[-1]\n",
    "            def_dict = definition.get(ref)\n",
    "        else:\n",
    "            info = def_dict.get(\"properties\").get(p_n)\n",
    "            def_dict = info\n",
    "    return info\n",
    "\n",
    "\n",
    "# i = get_info(p0, definition, def_dict, bp)\n",
    "# print(i)\n",
    "\n",
    "r = RuntimeInfoManager()"
   ]
  },
  {
   "cell_type": "code",
   "execution_count": null,
   "outputs": [],
   "source": [
    "res = [\n",
    "    (400, {\"message\": {\"import_url\": [\"is blocked: Only allowed schemes are http, https, git\"], \"name\": [],\n",
    "                       \"limit_reached\": []}}),\n",
    "    (400, {\"error\": \"name, path are missing, at least one parameter must be provided\"}),\n",
    "    (400, {\"error\": \"avatar is invalid\"}),\n",
    "    (400, {\"message\": {\"namespace\": [\"is not valid\"], \"limit_reached\": []}}),\n",
    "    (400, {\"message\": {\"project_feature.merge_requests_access_level\": [\n",
    "        \"cannot have higher visibility level than repository access level\"], \"project_feature.builds_access_level\": [\n",
    "        \"cannot have higher visibility level than repository access level\"],\n",
    "        \"import_url\": [\"is blocked: Only allowed schemes are http, https, git\"],\n",
    "        \"repository_storage\": [\"is not included in the list\"], \"name\": [], \"limit_reached\": []}})\n",
    "]\n"
   ],
   "metadata": {
    "collapsed": false
   },
   "id": "ec32d855a87a7680"
  },
  {
   "cell_type": "code",
   "execution_count": null,
   "outputs": [],
   "source": [
    "pv = ParamValueModel(op, ep, r, \"/Users/naariah/Experiment/LLM\")\n",
    "rm = ResponseModel(op, r, \"/Users/naariah/Experiment/LLM\", res)\n",
    "pt = pv.build_prompt()\n",
    "a = rm.execute()\n",
    "print()\n",
    "print(r.get_llm_constrainted_params(op))\n",
    "# print(pt)\n",
    "# a = pv.execute()\n",
    "# print()\n",
    "# t = r.get_llm_examples().get(op)\n",
    "# print()"
   ],
   "metadata": {
    "collapsed": false
   },
   "id": "9b03e7427b181613"
  },
  {
   "cell_type": "code",
   "execution_count": null,
   "outputs": [],
   "source": [
    "text1 = \"Error: Internal Error: Unrecognized token 'AkGlSsinrjah6LxetN8K': was expecting (JSON String, Number, Array, Object or token 'null', 'true' or 'false') at [Source: (String)'AkGlSsinrjah6LxetN8K'; line: 1, column: 21]\"\n",
    "text2 = \"Error: Internal Error: Unrecognized token 'Nps': was expecting (JSON String, Number, Array, Object or token 'null', 'true' or 'false') at [Source: (String)'Nps'; line: 1, column: 4]\"\n",
    "\n",
    "from sklearn.feature_extraction.text import CountVectorizer\n",
    "from sklearn.metrics.pairwise import cosine_similarity\n",
    "\n",
    "def calculate_cosine_similarity(string1, string2):\n",
    "    # 将两个字符串组合成一个列表\n",
    "    documents = [string1, string2]\n",
    "\n",
    "    # 使用 CountVectorizer 转换文本为词频矩阵\n",
    "    count_vectorizer = CountVectorizer()\n",
    "    sparse_matrix = count_vectorizer.fit_transform(documents)\n",
    "\n",
    "    # 使用 cosine_similarity 计算余弦相似度\n",
    "    cosine_sim = cosine_similarity(sparse_matrix, sparse_matrix)\n",
    "\n",
    "    # 获取相似度值\n",
    "    similarity_value = cosine_sim[0][1]\n",
    "\n",
    "    return similarity_value\n",
    "\n",
    "similarity = calculate_cosine_similarity(text1, text2)\n",
    "print(f\"Cosine Similarity: {similarity}\")"
   ],
   "metadata": {
    "collapsed": false
   },
   "id": "a538318e58d7bf11"
  },
  {
   "cell_type": "code",
   "execution_count": null,
   "outputs": [],
   "source": [],
   "metadata": {
    "collapsed": false
   },
   "id": "f08395418c778fa9"
  }
 ],
 "metadata": {
  "kernelspec": {
   "display_name": "Python 3",
   "language": "python",
   "name": "python3"
  },
  "language_info": {
   "codemirror_mode": {
    "name": "ipython",
    "version": 2
   },
   "file_extension": ".py",
   "mimetype": "text/x-python",
   "name": "python",
   "nbconvert_exporter": "python",
   "pygments_lexer": "ipython2",
   "version": "2.7.6"
  }
 },
 "nbformat": 4,
 "nbformat_minor": 5
}
