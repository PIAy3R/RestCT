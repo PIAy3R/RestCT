{
 "cells": [
  {
   "cell_type": "code",
   "execution_count": 1,
   "outputs": [
    {
     "name": "stderr",
     "output_type": "stream",
     "text": [
      "2024-05-23 16:37:31.650 | DEBUG    | src.swagger:__init__:28 - Parsing specification file\n"
     ]
    }
   ],
   "source": [
    "import time\n",
    "\n",
    "from src.swagger import SwaggerParser\n",
    "from src.config import Config\n",
    "import json\n",
    "import os\n",
    "\n",
    "os.environ[\"model\"] = \"gpt-4o-2024-05-13\"\n",
    "os.environ[\"language_model_key\"] = \"\"\n",
    "\n",
    "# root_path = \"/Users/naariah/Documents/Python_Codes/api-suts/specifications/v3/languageTool.json\"\n",
    "root_path = \"/Users/naariah/Documents/Python_Codes/api-suts/specifications/v3/gitlab-projects-13.json\"\n",
    "config = Config()\n",
    "config.swagger = root_path\n",
    "parser = SwaggerParser(config)\n",
    "operations = parser.extract()"
   ],
   "metadata": {
    "collapsed": false,
    "ExecuteTime": {
     "end_time": "2024-05-23T08:37:32.146398Z",
     "start_time": "2024-05-23T08:37:31.008348Z"
    }
   },
   "id": "13649ca90e106f55"
  },
  {
   "cell_type": "code",
   "execution_count": 5,
   "outputs": [
    {
     "data": {
      "text/plain": "[get:/projects,\n post:/projects,\n post:/projects/user/{user_id},\n get:/projects/{id},\n put:/projects/{id},\n delete:/projects/{id},\n get:/projects/{id}/users,\n post:/projects/{id}/fork,\n delete:/projects/{id}/fork,\n get:/projects/{id}/forks,\n post:/projects/{id}/star,\n post:/projects/{id}/unstar,\n get:/projects/{id}/starrers,\n get:/projects/{id}/languages,\n post:/projects/{id}/archive,\n post:/projects/{id}/unarchive,\n post:/projects/{id}/restore,\n post:/projects/{id}/uploads,\n post:/projects/{id}/share,\n delete:/projects/{id}/share/{group_id},\n get:/projects/{id}/hooks,\n post:/projects/{id}/hooks,\n get:/projects/{id}/hooks/{hook_id},\n put:/projects/{id}/hooks/{hook_id},\n delete:/projects/{id}/hooks/{hook_id},\n post:/projects/{id}/housekeeping,\n put:/projects/{id}/transfer,\n post:/projects/{id}/fork/{forked_from_id},\n get:/projects/{id}/snapshot,\n get:/users/{user_id}/projects,\n get:/users/{user_id}/starred_projects]"
     },
     "execution_count": 5,
     "metadata": {},
     "output_type": "execute_result"
    }
   ],
   "source": [
    "operations"
   ],
   "metadata": {
    "collapsed": false,
    "ExecuteTime": {
     "end_time": "2024-05-23T08:44:06.722727Z",
     "start_time": "2024-05-23T08:44:06.714598Z"
    }
   },
   "id": "8b940a6fe0c51598"
  },
  {
   "cell_type": "code",
   "execution_count": 3,
   "outputs": [],
   "source": [
    "from src.rest import PathParam\n",
    "\n",
    "info = []\n",
    "for operation in operations:\n",
    "    if operation.__repr__() == \"get:/projects/{id}/hooks/{hook_id}\":\n",
    "        for param in operation.parameters:\n",
    "            if isinstance(param, PathParam):\n",
    "                info.append(\n",
    "                    {\n",
    "                        \"name\": param.factor.get_global_name, \n",
    "                        \"description\": param.factor.description\n",
    "                    }\n",
    "                )"
   ],
   "metadata": {
    "collapsed": false,
    "ExecuteTime": {
     "end_time": "2024-05-23T08:40:30.687796Z",
     "start_time": "2024-05-23T08:40:30.678736Z"
    }
   },
   "id": "e70ac6eaf8e35fe8"
  },
  {
   "cell_type": "code",
   "execution_count": 4,
   "outputs": [
    {
     "data": {
      "text/plain": "[{'name': 'id', 'description': 'The ID or URL-encoded path of the project.'},\n {'name': 'hook_id', 'description': 'The ID of a project hook.'}]"
     },
     "execution_count": 4,
     "metadata": {},
     "output_type": "execute_result"
    }
   ],
   "source": [
    "info"
   ],
   "metadata": {
    "collapsed": false,
    "ExecuteTime": {
     "end_time": "2024-05-23T08:40:32.231959Z",
     "start_time": "2024-05-23T08:40:32.219660Z"
    }
   },
   "id": "2200ae8464cdddde"
  },
  {
   "cell_type": "code",
   "execution_count": null,
   "outputs": [],
   "source": [
    "from openai import OpenAI\n",
    "from src.template import *\n",
    "from src.languagemodel.llm import count_tokens\n",
    "\n",
    "client = OpenAI(api_key=os.environ[\"language_model_key\"])\n",
    "messages = []\n",
    "messages.append({\"role\": \"system\", \"content\": SystemRole.SYS_ROLE_SEQUENCE})\n",
    "prompt = INFO.SEQUENCE.format(info) + Task.SEQUENCE\n",
    "messages.append({\"role\": \"user\", \"content\": prompt})"
   ],
   "metadata": {
    "collapsed": false
   },
   "id": "34fdf43a84b4a546"
  },
  {
   "cell_type": "code",
   "execution_count": null,
   "outputs": [],
   "source": [
    "messages"
   ],
   "metadata": {
    "collapsed": false
   },
   "id": "e907be6600509fab"
  },
  {
   "cell_type": "code",
   "execution_count": null,
   "outputs": [],
   "source": [
    "count_tokens(messages, os.environ[\"model\"])"
   ],
   "metadata": {
    "collapsed": false
   },
   "id": "820588670a315d56"
  },
  {
   "cell_type": "code",
   "execution_count": null,
   "outputs": [],
   "source": [
    "from loguru import logger\n",
    "\n",
    "while True:\n",
    "    try:\n",
    "        start = time.time()\n",
    "        response = client.chat.completions.create(\n",
    "            model=os.environ[\"model\"],\n",
    "            messages=messages,\n",
    "            temperature=0.5,\n",
    "            top_p=0.99,\n",
    "            frequency_penalty=0,\n",
    "            presence_penalty=0,\n",
    "            max_tokens=4096,\n",
    "            response_format={\"type\": \"json_object\"}\n",
    "        )\n",
    "        end = time.time()\n",
    "        print(\"Time taken: \", end - start)\n",
    "        break\n",
    "    except Exception as e:\n",
    "        logger.error(f\"Error in calling language model: {e}\")\n",
    "        logger.error(\"Retrying...\")"
   ],
   "metadata": {
    "collapsed": false
   },
   "id": "822eeaa5e9227933"
  },
  {
   "cell_type": "code",
   "execution_count": null,
   "outputs": [],
   "source": [
    "json.loads(response.choices[0].message.content)"
   ],
   "metadata": {
    "collapsed": false
   },
   "id": "d1009396398c6fc3"
  },
  {
   "cell_type": "code",
   "execution_count": null,
   "outputs": [],
   "source": [],
   "metadata": {
    "collapsed": false
   },
   "id": "9d3369e8daeb6fbc"
  }
 ],
 "metadata": {
  "kernelspec": {
   "display_name": "Python 3",
   "language": "python",
   "name": "python3"
  },
  "language_info": {
   "codemirror_mode": {
    "name": "ipython",
    "version": 2
   },
   "file_extension": ".py",
   "mimetype": "text/x-python",
   "name": "python",
   "nbconvert_exporter": "python",
   "pygments_lexer": "ipython2",
   "version": "2.7.6"
  }
 },
 "nbformat": 4,
 "nbformat_minor": 5
}
