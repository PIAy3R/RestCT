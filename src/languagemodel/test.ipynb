{
 "cells": [
  {
   "cell_type": "code",
   "execution_count": null,
   "outputs": [],
   "source": [
    "import time\n",
    "\n",
    "from src.swagger import SwaggerParser\n",
    "from src.config import Config\n",
    "import json\n",
    "import os\n",
    "\n",
    "os.environ[\"model\"] = \"gpt-4o-2024-05-13\"\n",
    "os.environ[\"language_model_key\"] = \"\"\n",
    "\n",
    "# root_path = \"/Users/naariah/Documents/Python_Codes/api-suts/specifications/v3/languageTool.json\"\n",
    "root_path = \"/Users/naariah/Documents/Python_Codes/api-suts/specifications/v3/gitlab-groups-13.json\"\n",
    "config = Config()\n",
    "config.swagger = root_path\n",
    "parser = SwaggerParser(config)\n",
    "operations = parser.extract()"
   ],
   "metadata": {
    "collapsed": false
   },
   "id": "13649ca90e106f55"
  },
  {
   "cell_type": "code",
   "execution_count": null,
   "outputs": [],
   "source": [
    "operations"
   ],
   "metadata": {
    "collapsed": false
   },
   "id": "8b940a6fe0c51598"
  },
  {
   "cell_type": "code",
   "execution_count": null,
   "outputs": [],
   "source": [
    "from src.rest import PathParam\n",
    "\n",
    "info = []\n",
    "for operation in operations:\n",
    "    info.append(\n",
    "                {\n",
    "                    \"name\": operation.__repr__(),\n",
    "                    \"description\": operation.description,\n",
    "                }\n",
    "            )"
   ],
   "metadata": {
    "collapsed": false
   },
   "id": "e70ac6eaf8e35fe8"
  },
  {
   "cell_type": "code",
   "execution_count": null,
   "outputs": [],
   "source": [
    "info"
   ],
   "metadata": {
    "collapsed": false
   },
   "id": "2200ae8464cdddde"
  },
  {
   "cell_type": "code",
   "execution_count": null,
   "outputs": [],
   "source": [
    "operation = operations[3]\n",
    "info = []\n",
    "for f in operation.get_leaf_factors():\n",
    "    info.append(\n",
    "                {\n",
    "                    \"name\": f.get_global_name,\n",
    "                    \"type\": f.type.value,\n",
    "                    \"description\": f.description,\n",
    "                }\n",
    "            )"
   ],
   "metadata": {
    "collapsed": false
   },
   "id": "20da90785b7349b9"
  },
  {
   "cell_type": "code",
   "execution_count": null,
   "outputs": [],
   "source": [
    "from openai import OpenAI\n",
    "from src.template import *\n",
    "from src.languagemodel.llm import count_tokens\n",
    "\n",
    "client = OpenAI(api_key=os.environ[\"language_model_key\"],base_url=\"https://api.bianxieai.com/v1\")\n",
    "messages = []\n",
    "messages.append({\"role\": \"system\", \"content\": SystemRole.SYS_ROLE_SEQUENCE})\n",
    "prompt = INFO.SEQUENCE.format(info) + Task.SEQUENCE\n",
    "messages.append({\"role\": \"user\", \"content\": prompt})"
   ],
   "metadata": {
    "collapsed": false
   },
   "id": "34fdf43a84b4a546"
  },
  {
   "cell_type": "code",
   "execution_count": null,
   "outputs": [],
   "source": [
    "messages"
   ],
   "metadata": {
    "collapsed": false
   },
   "id": "e907be6600509fab"
  },
  {
   "cell_type": "code",
   "execution_count": null,
   "outputs": [],
   "source": [
    "count_tokens(messages, os.environ[\"model\"])"
   ],
   "metadata": {
    "collapsed": false
   },
   "id": "820588670a315d56"
  },
  {
   "cell_type": "code",
   "execution_count": null,
   "outputs": [],
   "source": [
    "from loguru import logger\n",
    "\n",
    "while True:\n",
    "    try:\n",
    "        start = time.time()\n",
    "        response = client.chat.completions.create(\n",
    "            model=os.environ[\"model\"],\n",
    "            messages=messages,\n",
    "            temperature=0.5,\n",
    "            top_p=0.99,\n",
    "            frequency_penalty=0,\n",
    "            presence_penalty=0,\n",
    "            max_tokens=4096,\n",
    "            response_format={\"type\": \"json_object\"}\n",
    "        )\n",
    "        end = time.time()\n",
    "        print(\"Time taken: \", end - start)\n",
    "        break\n",
    "    except Exception as e:\n",
    "        logger.error(f\"Error in calling language model: {e}\")\n",
    "        logger.error(\"Retrying...\")"
   ],
   "metadata": {
    "collapsed": false
   },
   "id": "822eeaa5e9227933"
  },
  {
   "cell_type": "code",
   "execution_count": null,
   "outputs": [],
   "source": [
    "json.loads(response.choices[0].message.content)"
   ],
   "metadata": {
    "collapsed": false
   },
   "id": "d1009396398c6fc3"
  },
  {
   "cell_type": "code",
   "execution_count": 15,
   "outputs": [
    {
     "name": "stdout",
     "output_type": "stream",
     "text": [
      "fxW7VndDBfq_TTr\n"
     ]
    }
   ],
   "source": [
    "import rstr\n",
    "\n",
    "\n",
    "def generate_random_string_from_pattern(pattern, min_length=0, max_length=None):\n",
    "    try:\n",
    "        generated_str = rstr.xeger(pattern)\n",
    "        if max_length:\n",
    "            generated_str = generated_str[min_length:max_length-1]\n",
    "        return generated_str\n",
    "    except Exception:\n",
    "        pass\n",
    "    return None\n",
    "\n",
    "\n",
    "pattern = r'[A-Za-z0-9!@#$%^&*()_+]{10,15}'\n",
    "random_string = generate_random_string_from_pattern(pattern)\n",
    "print(random_string)"
   ],
   "metadata": {
    "collapsed": false,
    "ExecuteTime": {
     "end_time": "2024-06-20T07:40:31.630613Z",
     "start_time": "2024-06-20T07:40:31.615488Z"
    }
   },
   "id": "9d3369e8daeb6fbc"
  },
  {
   "cell_type": "code",
   "execution_count": null,
   "outputs": [],
   "source": [],
   "metadata": {
    "collapsed": false
   },
   "id": "95fd69ae1df8ffd4"
  }
 ],
 "metadata": {
  "kernelspec": {
   "display_name": "Python 3",
   "language": "python",
   "name": "python3"
  },
  "language_info": {
   "codemirror_mode": {
    "name": "ipython",
    "version": 2
   },
   "file_extension": ".py",
   "mimetype": "text/x-python",
   "name": "python",
   "nbconvert_exporter": "python",
   "pygments_lexer": "ipython2",
   "version": "2.7.6"
  }
 },
 "nbformat": 4,
 "nbformat_minor": 5
}
