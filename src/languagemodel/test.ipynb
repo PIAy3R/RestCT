{
 "cells": [
  {
   "cell_type": "code",
   "execution_count": 1,
   "id": "initial_id",
   "metadata": {
    "collapsed": true,
    "ExecuteTime": {
     "end_time": "2024-02-15T02:06:03.072476Z",
     "start_time": "2024-02-15T02:05:58.256358Z"
    }
   },
   "outputs": [],
   "source": [
    "import json\n",
    "import os\n",
    "from pathlib import Path\n",
    "\n",
    "from loguru import logger\n",
    "\n",
    "from src.Dto.keywords import URL\n",
    "from src.Dto.parameter import EnumParam\n",
    "from src.ca import RuntimeInfoManager\n",
    "from src.languagemodel.LanguageModel import ParamValueModel, ResponseModel\n",
    "from src.openapiParser import Parser\n",
    "\n",
    "swagger = \"/Users/naariah/Documents/Python_Codes/RestCT/exp/swagger/GitLab/Branch.json\"\n",
    "os.environ[\"swagger\"] = swagger\n",
    "os.environ[\"model\"] = \"gpt-3.5-turbo-1106\"\n",
    "os.environ[\"language_model_key\"] = \"\"\n",
    "# os.environ[\"http_proxy\"] = \"http://localhost:7890\"\n",
    "# os.environ[\"https_proxy\"] = \"http://localhost:7890\"\n",
    "\n",
    "with Path(swagger).open(\"r\") as fp:\n",
    "    spec = json.load(fp)\n",
    "\n",
    "p = Parser(logger)\n",
    "p.parse()\n",
    "op = p.operations[1]\n",
    "ep = [p for p in op.parameterList if not isinstance(p, EnumParam)]\n",
    "bp = ep[0]\n",
    "pl = bp.seeAllParameters()\n",
    "p0 = pl[0].getGlobalName()\n",
    "definition = spec.get(\"definitions\").copy()\n",
    "p_l = spec[\"paths\"][op.url.replace(URL.baseurl, \"\")][op.method.value][\"parameters\"]\n",
    "plstr = json.dumps(p_l)\n",
    "\n",
    "\n",
    "# ref = str()\n",
    "# for p_i in p_l:\n",
    "#     if p_i[\"name\"] == bp.name:\n",
    "#         ref = p_i[\"schema\"].get(\"$ref\").split(\"/\")[-1]\n",
    "# def_dict = definition[ref]\n",
    "\n",
    "\n",
    "def get_info(param, definition, def_dict, body):\n",
    "    for p_n in param.split(\"@\"):\n",
    "        if p_n == body.name:\n",
    "            continue\n",
    "        elif p_n == \"_item\":\n",
    "            ref = def_dict.get(\"items\").get(\"$ref\").split(\"/\")[-1]\n",
    "            def_dict = definition.get(ref)\n",
    "        else:\n",
    "            info = def_dict.get(\"properties\").get(p_n)\n",
    "            def_dict = info\n",
    "    return info\n",
    "\n",
    "\n",
    "# i = get_info(p0, definition, def_dict, bp)\n",
    "# print(i)\n",
    "\n",
    "r = RuntimeInfoManager()"
   ]
  },
  {
   "cell_type": "code",
   "execution_count": 2,
   "outputs": [],
   "source": [
    "res = [\n",
    "    (400, {\"message\": {\"import_url\": [\"is blocked: Only allowed schemes are http, https, git\"], \"name\": [],\n",
    "                       \"limit_reached\": []}}),\n",
    "    (400, {\"error\": \"name, path are missing, at least one parameter must be provided\"}),\n",
    "    (400, {\"error\": \"avatar is invalid\"}),\n",
    "    (400, {\"message\": {\"namespace\": [\"is not valid\"], \"limit_reached\": []}}),\n",
    "    (400, {\"message\": {\"project_feature.merge_requests_access_level\": [\n",
    "        \"cannot have higher visibility level than repository access level\"], \"project_feature.builds_access_level\": [\n",
    "        \"cannot have higher visibility level than repository access level\"],\n",
    "        \"import_url\": [\"is blocked: Only allowed schemes are http, https, git\"],\n",
    "        \"repository_storage\": [\"is not included in the list\"], \"name\": [], \"limit_reached\": []}})\n",
    "]\n"
   ],
   "metadata": {
    "collapsed": false,
    "ExecuteTime": {
     "end_time": "2024-02-15T02:06:05.563718Z",
     "start_time": "2024-02-15T02:06:05.559938Z"
    }
   },
   "id": "ec32d855a87a7680"
  },
  {
   "cell_type": "code",
   "execution_count": 3,
   "outputs": [
    {
     "name": "stderr",
     "output_type": "stream",
     "text": [
      "2024-02-15 10:06:12.917 | DEBUG    | src.languagemodel.LanguageModel:__init__:75 - call language model for operation: post***http://127.0.0.1:30080/api/v4/projects\n",
      "2024-02-15 10:06:12.918 | DEBUG    | src.languagemodel.LanguageModel:__init__:153 - target parameter list: [allow_merge_on_skipped_pipeline, auto_devops_enabled, autoclose_referenced_issues, avatar, build_coverage_regex, build_git_strategy, build_timeout, ci_config_path, container_expiration_policy_attributes, container_registry_enabled, default_branch, description, emails_disabled, import_url, initialize_with_readme, issues_enabled, jobs_enabled, lfs_enabled, merge_requests_enabled, name, namespace_id, only_allow_merge_if_all_discussions_are_resolved, only_allow_merge_if_pipeline_succeeds, packages_enabled, path, printing_merge_request_link_enabled, public_builds, remove_source_branch_after_merge, repository_storage, request_access_enabled, resolve_outdated_diff_discussions, shared_runners_enabled, show_default_award_emojis, snippets_enabled, tag_list, template_name, wiki_enabled]\n",
      "2024-02-15 10:06:12.954 | DEBUG    | src.languagemodel.LanguageModel:__init__:75 - call language model for operation: post***http://127.0.0.1:30080/api/v4/projects\n",
      "2024-02-15 10:06:12.954 | DEBUG    | src.languagemodel.LanguageModel:__init__:260 - Use llm to handel test cases responses\n",
      "2024-02-15 10:06:12.955 | DEBUG    | src.languagemodel.LanguageModel:call_extract_parameter:327 - call language model for to extract parameters from response\n",
      "2024-02-15 10:06:19.228 | INFO     | src.languagemodel.LanguageModel:num_tokens_from_string:30 - token nums: 966\n",
      "2024-02-15 10:06:22.280 | INFO     | src.languagemodel.LanguageModel:_call_model:323 - call time: 3.0523409843444824 s\n",
      "2024-02-15 10:06:22.283 | INFO     | src.languagemodel.LanguageModel:call_extract_parameter:331 - Language model answer: ['merge_requests_access_level', 'builds_access_level', 'import_url', 'repository_storage', 'name', 'path', 'avatar', 'namespace']\n",
      "2024-02-15 10:06:22.286 | DEBUG    | src.languagemodel.LanguageModel:call_classify:336 - call language model for to classify error cause\n",
      "2024-02-15 10:06:22.289 | INFO     | src.languagemodel.LanguageModel:num_tokens_from_string:30 - token nums: 1096\n",
      "2024-02-15 10:06:26.486 | INFO     | src.languagemodel.LanguageModel:_call_model:323 - call time: 4.196788787841797 s\n",
      "2024-02-15 10:06:26.488 | INFO     | src.languagemodel.LanguageModel:call_classify:342 - Language model answer: {'merge_requests_access_level': [2], 'builds_access_level': [2], 'import_url': [1], 'repository_storage': [1], 'name': [1, 2], 'path': [1], 'avatar': [1], 'namespace': [1]}\n",
      "2024-02-15 10:06:26.493 | DEBUG    | src.languagemodel.LanguageModel:call_group:347 - call language model to group error cause\n",
      "2024-02-15 10:06:26.497 | INFO     | src.languagemodel.LanguageModel:num_tokens_from_string:30 - token nums: 1228\n",
      "2024-02-15 10:06:28.500 | INFO     | src.languagemodel.LanguageModel:_call_model:323 - call time: 2.0019969940185547 s\n",
      "2024-02-15 10:06:28.503 | INFO     | src.languagemodel.LanguageModel:call_group:353 - Language model answer: {'constraint1': ['merge_requests_access_level', 'repository_access_level'], 'constraint2': ['builds_access_level', 'repository_access_level'], 'constraint3': ['name', 'path']}\n",
      "2024-02-15 10:06:28.504 | INFO     | src.languagemodel.LanguageModel:execute:303 - Call language model to parse response complete\n"
     ]
    },
    {
     "name": "stdout",
     "output_type": "stream",
     "text": [
      "\n",
      "[builds_access_level, merge_requests_access_level, name]\n"
     ]
    }
   ],
   "source": [
    "pv = ParamValueModel(op, ep, r, \"/Users/naariah/Experiment/LLM\")\n",
    "rm = ResponseModel(op, r, \"/Users/naariah/Experiment/LLM\", res)\n",
    "pt = pv.build_prompt()\n",
    "a = rm.execute()\n",
    "print()\n",
    "print(r.get_llm_constrainted_params(op))\n",
    "# print(pt)\n",
    "# a = pv.execute()\n",
    "# print()\n",
    "# t = r.get_llm_examples().get(op)\n",
    "# print()"
   ],
   "metadata": {
    "collapsed": false,
    "ExecuteTime": {
     "end_time": "2024-02-15T02:06:28.510786Z",
     "start_time": "2024-02-15T02:06:12.870800Z"
    }
   },
   "id": "9b03e7427b181613"
  },
  {
   "cell_type": "code",
   "execution_count": 3,
   "outputs": [
    {
     "name": "stdout",
     "output_type": "stream",
     "text": [
      "Cosine Similarity: 0.8733260632194674\n"
     ]
    }
   ],
   "source": [
    "text1 = \"Error: Internal Error: Unrecognized token 'AkGlSsinrjah6LxetN8K': was expecting (JSON String, Number, Array, Object or token 'null', 'true' or 'false') at [Source: (String)'AkGlSsinrjah6LxetN8K'; line: 1, column: 21]\"\n",
    "text2 = \"Error: Internal Error: Unrecognized token 'Nps': was expecting (JSON String, Number, Array, Object or token 'null', 'true' or 'false') at [Source: (String)'Nps'; line: 1, column: 4]\"\n",
    "\n",
    "from sklearn.feature_extraction.text import CountVectorizer\n",
    "from sklearn.metrics.pairwise import cosine_similarity\n",
    "\n",
    "def calculate_cosine_similarity(string1, string2):\n",
    "    # 将两个字符串组合成一个列表\n",
    "    documents = [string1, string2]\n",
    "\n",
    "    # 使用 CountVectorizer 转换文本为词频矩阵\n",
    "    count_vectorizer = CountVectorizer()\n",
    "    sparse_matrix = count_vectorizer.fit_transform(documents)\n",
    "\n",
    "    # 使用 cosine_similarity 计算余弦相似度\n",
    "    cosine_sim = cosine_similarity(sparse_matrix, sparse_matrix)\n",
    "\n",
    "    # 获取相似度值\n",
    "    similarity_value = cosine_sim[0][1]\n",
    "\n",
    "    return similarity_value\n",
    "\n",
    "similarity = calculate_cosine_similarity(text1, text2)\n",
    "print(f\"Cosine Similarity: {similarity}\")"
   ],
   "metadata": {
    "collapsed": false,
    "ExecuteTime": {
     "end_time": "2024-02-22T07:28:54.726294Z",
     "start_time": "2024-02-22T07:28:54.722355Z"
    }
   },
   "id": "a538318e58d7bf11"
  },
  {
   "cell_type": "code",
   "execution_count": null,
   "outputs": [],
   "source": [],
   "metadata": {
    "collapsed": false
   },
   "id": "f08395418c778fa9"
  }
 ],
 "metadata": {
  "kernelspec": {
   "display_name": "Python 3",
   "language": "python",
   "name": "python3"
  },
  "language_info": {
   "codemirror_mode": {
    "name": "ipython",
    "version": 2
   },
   "file_extension": ".py",
   "mimetype": "text/x-python",
   "name": "python",
   "nbconvert_exporter": "python",
   "pygments_lexer": "ipython2",
   "version": "2.7.6"
  }
 },
 "nbformat": 4,
 "nbformat_minor": 5
}
