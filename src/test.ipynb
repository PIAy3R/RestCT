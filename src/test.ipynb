{
 "cells": [
  {
   "cell_type": "code",
   "execution_count": null,
   "id": "initial_id",
   "metadata": {
    "collapsed": true
   },
   "outputs": [],
   "source": [
    "import time\n",
    "\n",
    "from src.swagger import SwaggerParser\n",
    "from src.config import Config\n",
    "from idl import IDL\n",
    "import json\n",
    "import os\n",
    "\n",
    "branch_path = \"/Users/naariah/Documents/Python_Codes/api-suts/specifications/v3/gitlab-branch-13.json\"\n",
    "language_path = \"/Users/naariah/Documents/Python_Codes/api-suts/specifications/v3/languageTool.json\"\n",
    "config = Config()\n",
    "config.swagger = language_path\n",
    "parser = SwaggerParser(config)\n",
    "operations = parser.extract()"
   ]
  },
  {
   "cell_type": "code",
   "execution_count": null,
   "outputs": [],
   "source": [
    "operations[0].constraints"
   ],
   "metadata": {
    "collapsed": false
   },
   "id": "2a6a7880629d938b"
  },
  {
   "cell_type": "code",
   "execution_count": null,
   "outputs": [],
   "source": [
    "idl = IDL(\"AllOrNone(body.text, body.data)\", operations[0])\n",
    "idl.to_constraint()"
   ],
   "metadata": {
    "collapsed": false
   },
   "id": "50005fae83796260"
  },
  {
   "cell_type": "code",
   "execution_count": null,
   "outputs": [],
   "source": [
    "operations[0].constraints"
   ],
   "metadata": {
    "collapsed": false
   },
   "id": "30d368b0a7a9f568"
  }
 ],
 "metadata": {
  "kernelspec": {
   "display_name": "Python 3",
   "language": "python",
   "name": "python3"
  },
  "language_info": {
   "codemirror_mode": {
    "name": "ipython",
    "version": 2
   },
   "file_extension": ".py",
   "mimetype": "text/x-python",
   "name": "python",
   "nbconvert_exporter": "python",
   "pygments_lexer": "ipython2",
   "version": "2.7.6"
  }
 },
 "nbformat": 4,
 "nbformat_minor": 5
}
